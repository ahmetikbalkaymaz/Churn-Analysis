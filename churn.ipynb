{
 "cells": [
  {
   "cell_type": "code",
   "execution_count": 1,
   "id": "fc8c2886-fb11-4224-a871-555599ce6eb7",
   "metadata": {},
   "outputs": [],
   "source": [
    "import warnings\n",
    "warnings.filterwarnings(\"ignore\", category=DeprecationWarning)\n",
    "warnings.filterwarnings(\"ignore\", category=FutureWarning)"
   ]
  },
  {
   "cell_type": "code",
   "execution_count": 2,
   "id": "ecd4f5bf-3306-48ca-8648-b90b9fe4031c",
   "metadata": {},
   "outputs": [],
   "source": [
    "import findspark"
   ]
  },
  {
   "cell_type": "code",
   "execution_count": 3,
   "id": "fc7e7f93-e562-4666-ba46-451c8530beb3",
   "metadata": {},
   "outputs": [],
   "source": [
    "findspark.init(\"/Users/ahmetikbalkaymaz/spark/spark-3.3.0-bin-hadoop3\")"
   ]
  },
  {
   "cell_type": "code",
   "execution_count": 4,
   "id": "bf7f7400-ba43-4591-bc4a-5fa2f55c3591",
   "metadata": {},
   "outputs": [],
   "source": [
    "from pyspark import SparkContext"
   ]
  },
  {
   "cell_type": "code",
   "execution_count": 5,
   "id": "163d8494-210f-4cb8-86e8-2b53a5559642",
   "metadata": {},
   "outputs": [],
   "source": [
    "import pyspark\n",
    "from pyspark.sql import SparkSession\n",
    "from pyspark.conf import SparkConf"
   ]
  },
  {
   "cell_type": "code",
   "execution_count": 6,
   "id": "1c2d3009-bff4-4b45-916a-ff97168806cb",
   "metadata": {},
   "outputs": [
    {
     "name": "stdout",
     "output_type": "stream",
     "text": [
      "22/08/03 14:23:19 WARN Utils: Your hostname, Ahmet-MacBook-Pro.local resolves to a loopback address: 127.0.0.1; using 192.168.1.36 instead (on interface en0)\n",
      "22/08/03 14:23:19 WARN Utils: Set SPARK_LOCAL_IP if you need to bind to another address\n"
     ]
    },
    {
     "name": "stderr",
     "output_type": "stream",
     "text": [
      "Setting default log level to \"WARN\".\n",
      "To adjust logging level use sc.setLogLevel(newLevel). For SparkR, use setLogLevel(newLevel).\n"
     ]
    },
    {
     "name": "stdout",
     "output_type": "stream",
     "text": [
      "22/08/03 14:23:20 WARN NativeCodeLoader: Unable to load native-hadoop library for your platform... using builtin-java classes where applicable\n"
     ]
    }
   ],
   "source": [
    "spark=SparkSession.builder \\\n",
    "    .master(\"local\") \\\n",
    "    .appName(\"pyspark_giris\") \\\n",
    "    .getOrCreate()\n",
    "\n",
    "sc = spark.sparkContext"
   ]
  },
  {
   "cell_type": "code",
   "execution_count": 7,
   "id": "f8d1998d-d9d9-4d70-9416-8dcc84d70b62",
   "metadata": {},
   "outputs": [
    {
     "data": {
      "text/html": [
       "\n",
       "        <div>\n",
       "            <p><b>SparkContext</b></p>\n",
       "\n",
       "            <p><a href=\"http://192.168.1.36:4040\">Spark UI</a></p>\n",
       "\n",
       "            <dl>\n",
       "              <dt>Version</dt>\n",
       "                <dd><code>v3.3.0</code></dd>\n",
       "              <dt>Master</dt>\n",
       "                <dd><code>local</code></dd>\n",
       "              <dt>AppName</dt>\n",
       "                <dd><code>pyspark_giris</code></dd>\n",
       "            </dl>\n",
       "        </div>\n",
       "        "
      ],
      "text/plain": [
       "<SparkContext master=local appName=pyspark_giris>"
      ]
     },
     "execution_count": 7,
     "metadata": {},
     "output_type": "execute_result"
    }
   ],
   "source": [
    "sc"
   ]
  },
  {
   "cell_type": "code",
   "execution_count": 8,
   "id": "1354413b-b13b-449f-a9db-c548d9a5fadd",
   "metadata": {},
   "outputs": [
    {
     "name": "stderr",
     "output_type": "stream",
     "text": [
      "                                                                                \r"
     ]
    }
   ],
   "source": [
    "spark_df = spark.read.csv(\"./churn.csv\", header=True, inferSchema= True)"
   ]
  },
  {
   "cell_type": "code",
   "execution_count": 9,
   "id": "25899ea5-cb7f-442f-976a-22e9a6918bbb",
   "metadata": {},
   "outputs": [
    {
     "name": "stdout",
     "output_type": "stream",
     "text": [
      "22/08/03 14:25:09 WARN CSVHeaderChecker: CSV header does not conform to the schema.\n",
      " Header: , Names, Age, Total_Purchase, Account_Manager, Years, Num_Sites, Churn\n",
      " Schema: _c0, Names, Age, Total_Purchase, Account_Manager, Years, Num_Sites, Churn\n",
      "Expected: _c0 but found: \n",
      "CSV file: file:///Users/ahmetikbalkaymaz/bigdata/churn.csv\n",
      "+---+----------------+----+--------------+---------------+-----+---------+-----+\n",
      "|_c0|           Names| Age|Total_Purchase|Account_Manager|Years|Num_Sites|Churn|\n",
      "+---+----------------+----+--------------+---------------+-----+---------+-----+\n",
      "|  0|Cameron Williams|42.0|       11066.8|              0| 7.22|      8.0|    1|\n",
      "|  1|   Kevin Mueller|41.0|      11916.22|              0|  6.5|     11.0|    1|\n",
      "|  2|     Eric Lozano|38.0|      12884.75|              0| 6.67|     12.0|    1|\n",
      "|  3|   Phillip White|42.0|       8010.76|              0| 6.71|     10.0|    1|\n",
      "|  4|  Cynthia Norton|37.0|       9191.58|              0| 5.56|      9.0|    1|\n",
      "+---+----------------+----+--------------+---------------+-----+---------+-----+\n",
      "only showing top 5 rows\n",
      "\n"
     ]
    }
   ],
   "source": [
    "spark_df.show(5)"
   ]
  },
  {
   "cell_type": "code",
   "execution_count": 11,
   "id": "4b723cd2-9f43-4fe9-adee-1c34096e7633",
   "metadata": {},
   "outputs": [],
   "source": [
    "spark_df = spark_df.toDF(*[c.lower() for c in spark_df.columns])"
   ]
  },
  {
   "cell_type": "code",
   "execution_count": 12,
   "id": "fe571496-9ede-4cea-8b39-6d371be941df",
   "metadata": {},
   "outputs": [
    {
     "name": "stdout",
     "output_type": "stream",
     "text": [
      "22/08/03 14:27:26 WARN CSVHeaderChecker: CSV header does not conform to the schema.\n",
      " Header: , Names, Age, Total_Purchase, Account_Manager, Years, Num_Sites, Churn\n",
      " Schema: _c0, Names, Age, Total_Purchase, Account_Manager, Years, Num_Sites, Churn\n",
      "Expected: _c0 but found: \n",
      "CSV file: file:///Users/ahmetikbalkaymaz/bigdata/churn.csv\n",
      "+---+----------------+----+--------------+---------------+-----+---------+-----+\n",
      "|_c0|           names| age|total_purchase|account_manager|years|num_sites|churn|\n",
      "+---+----------------+----+--------------+---------------+-----+---------+-----+\n",
      "|  0|Cameron Williams|42.0|       11066.8|              0| 7.22|      8.0|    1|\n",
      "|  1|   Kevin Mueller|41.0|      11916.22|              0|  6.5|     11.0|    1|\n",
      "|  2|     Eric Lozano|38.0|      12884.75|              0| 6.67|     12.0|    1|\n",
      "|  3|   Phillip White|42.0|       8010.76|              0| 6.71|     10.0|    1|\n",
      "|  4|  Cynthia Norton|37.0|       9191.58|              0| 5.56|      9.0|    1|\n",
      "+---+----------------+----+--------------+---------------+-----+---------+-----+\n",
      "only showing top 5 rows\n",
      "\n"
     ]
    }
   ],
   "source": [
    "spark_df.show(5)"
   ]
  },
  {
   "cell_type": "code",
   "execution_count": 13,
   "id": "ceb8c67c-74b2-49a7-9086-ab0ccb7ab4ac",
   "metadata": {},
   "outputs": [],
   "source": [
    "spark_df = spark_df.withColumnRenamed(\"_c0\", \"index\")"
   ]
  },
  {
   "cell_type": "code",
   "execution_count": 14,
   "id": "b0cc98fb-1e48-4d8f-97ca-cb6ac8c75cde",
   "metadata": {},
   "outputs": [
    {
     "name": "stdout",
     "output_type": "stream",
     "text": [
      "22/08/03 14:28:39 WARN CSVHeaderChecker: CSV header does not conform to the schema.\n",
      " Header: , Names, Age, Total_Purchase, Account_Manager, Years, Num_Sites, Churn\n",
      " Schema: _c0, Names, Age, Total_Purchase, Account_Manager, Years, Num_Sites, Churn\n",
      "Expected: _c0 but found: \n",
      "CSV file: file:///Users/ahmetikbalkaymaz/bigdata/churn.csv\n",
      "+-----+----------------+----+--------------+---------------+-----+---------+-----+\n",
      "|index|           names| age|total_purchase|account_manager|years|num_sites|churn|\n",
      "+-----+----------------+----+--------------+---------------+-----+---------+-----+\n",
      "|    0|Cameron Williams|42.0|       11066.8|              0| 7.22|      8.0|    1|\n",
      "|    1|   Kevin Mueller|41.0|      11916.22|              0|  6.5|     11.0|    1|\n",
      "|    2|     Eric Lozano|38.0|      12884.75|              0| 6.67|     12.0|    1|\n",
      "|    3|   Phillip White|42.0|       8010.76|              0| 6.71|     10.0|    1|\n",
      "|    4|  Cynthia Norton|37.0|       9191.58|              0| 5.56|      9.0|    1|\n",
      "+-----+----------------+----+--------------+---------------+-----+---------+-----+\n",
      "only showing top 5 rows\n",
      "\n"
     ]
    }
   ],
   "source": [
    "spark_df.show(5)"
   ]
  },
  {
   "cell_type": "code",
   "execution_count": 15,
   "id": "28b2f8f8-afac-4104-b62c-172b357c7175",
   "metadata": {},
   "outputs": [
    {
     "name": "stdout",
     "output_type": "stream",
     "text": [
      "22/08/03 14:29:50 WARN CSVHeaderChecker: CSV header does not conform to the schema.\n",
      " Header: , Names, Age, Total_Purchase, Account_Manager, Years, Num_Sites, Churn\n",
      " Schema: _c0, Names, Age, Total_Purchase, Account_Manager, Years, Num_Sites, Churn\n",
      "Expected: _c0 but found: \n",
      "CSV file: file:///Users/ahmetikbalkaymaz/bigdata/churn.csv\n"
     ]
    },
    {
     "name": "stderr",
     "output_type": "stream",
     "text": [
      "                                                                                \r"
     ]
    },
    {
     "name": "stdout",
     "output_type": "stream",
     "text": [
      "+-------+------------------+-------------+-----------------+-----------------+------------------+-----------------+------------------+-------------------+\n",
      "|summary|             index|        names|              age|   total_purchase|   account_manager|            years|         num_sites|              churn|\n",
      "+-------+------------------+-------------+-----------------+-----------------+------------------+-----------------+------------------+-------------------+\n",
      "|  count|               900|          900|              900|              900|               900|              900|               900|                900|\n",
      "|   mean|             449.5|         null|41.81666666666667|10062.82403333334|0.4811111111111111| 5.27315555555555| 8.587777777777777|0.16666666666666666|\n",
      "| stddev|259.95191863111916|         null|6.127560416916251|2408.644531858096|0.4999208935073339|1.274449013194616|1.7648355920350969| 0.3728852122772358|\n",
      "|    min|                 0|   Aaron King|             22.0|            100.0|                 0|              1.0|               3.0|                  0|\n",
      "|    max|               899|Zachary Walsh|             65.0|         18026.01|                 1|             9.15|              14.0|                  1|\n",
      "+-------+------------------+-------------+-----------------+-----------------+------------------+-----------------+------------------+-------------------+\n",
      "\n"
     ]
    }
   ],
   "source": [
    "spark_df.describe().show()"
   ]
  },
  {
   "cell_type": "code",
   "execution_count": 17,
   "id": "2c974161-5290-40aa-b578-27a7d306b6a3",
   "metadata": {},
   "outputs": [
    {
     "data": {
      "text/html": [
       "<div>\n",
       "<style scoped>\n",
       "    .dataframe tbody tr th:only-of-type {\n",
       "        vertical-align: middle;\n",
       "    }\n",
       "\n",
       "    .dataframe tbody tr th {\n",
       "        vertical-align: top;\n",
       "    }\n",
       "\n",
       "    .dataframe thead th {\n",
       "        text-align: right;\n",
       "    }\n",
       "</style>\n",
       "<table border=\"1\" class=\"dataframe\">\n",
       "  <thead>\n",
       "    <tr style=\"text-align: right;\">\n",
       "      <th></th>\n",
       "      <th>0</th>\n",
       "      <th>1</th>\n",
       "      <th>2</th>\n",
       "      <th>3</th>\n",
       "      <th>4</th>\n",
       "    </tr>\n",
       "  </thead>\n",
       "  <tbody>\n",
       "    <tr>\n",
       "      <th>summary</th>\n",
       "      <td>count</td>\n",
       "      <td>mean</td>\n",
       "      <td>stddev</td>\n",
       "      <td>min</td>\n",
       "      <td>max</td>\n",
       "    </tr>\n",
       "    <tr>\n",
       "      <th>age</th>\n",
       "      <td>900</td>\n",
       "      <td>41.81666666666667</td>\n",
       "      <td>6.127560416916251</td>\n",
       "      <td>22.0</td>\n",
       "      <td>65.0</td>\n",
       "    </tr>\n",
       "    <tr>\n",
       "      <th>total_purchase</th>\n",
       "      <td>900</td>\n",
       "      <td>10062.82403333334</td>\n",
       "      <td>2408.644531858096</td>\n",
       "      <td>100.0</td>\n",
       "      <td>18026.01</td>\n",
       "    </tr>\n",
       "    <tr>\n",
       "      <th>account_manager</th>\n",
       "      <td>900</td>\n",
       "      <td>0.4811111111111111</td>\n",
       "      <td>0.4999208935073339</td>\n",
       "      <td>0</td>\n",
       "      <td>1</td>\n",
       "    </tr>\n",
       "    <tr>\n",
       "      <th>years</th>\n",
       "      <td>900</td>\n",
       "      <td>5.27315555555555</td>\n",
       "      <td>1.274449013194616</td>\n",
       "      <td>1.0</td>\n",
       "      <td>9.15</td>\n",
       "    </tr>\n",
       "    <tr>\n",
       "      <th>num_sites</th>\n",
       "      <td>900</td>\n",
       "      <td>8.587777777777777</td>\n",
       "      <td>1.7648355920350969</td>\n",
       "      <td>3.0</td>\n",
       "      <td>14.0</td>\n",
       "    </tr>\n",
       "    <tr>\n",
       "      <th>churn</th>\n",
       "      <td>900</td>\n",
       "      <td>0.16666666666666666</td>\n",
       "      <td>0.3728852122772358</td>\n",
       "      <td>0</td>\n",
       "      <td>1</td>\n",
       "    </tr>\n",
       "  </tbody>\n",
       "</table>\n",
       "</div>"
      ],
      "text/plain": [
       "                     0                    1                   2      3  \\\n",
       "summary          count                 mean              stddev    min   \n",
       "age                900    41.81666666666667   6.127560416916251   22.0   \n",
       "total_purchase     900    10062.82403333334   2408.644531858096  100.0   \n",
       "account_manager    900   0.4811111111111111  0.4999208935073339      0   \n",
       "years              900     5.27315555555555   1.274449013194616    1.0   \n",
       "num_sites          900    8.587777777777777  1.7648355920350969    3.0   \n",
       "churn              900  0.16666666666666666  0.3728852122772358      0   \n",
       "\n",
       "                        4  \n",
       "summary               max  \n",
       "age                  65.0  \n",
       "total_purchase   18026.01  \n",
       "account_manager         1  \n",
       "years                9.15  \n",
       "num_sites            14.0  \n",
       "churn                   1  "
      ]
     },
     "execution_count": 17,
     "metadata": {},
     "output_type": "execute_result"
    }
   ],
   "source": [
    "spark_df.select(\"age\",\"total_purchase\",\"account_manager\",\"years\",\"num_sites\",\"churn\").describe().toPandas().transpose()"
   ]
  },
  {
   "cell_type": "code",
   "execution_count": 18,
   "id": "3ed11972-d0c3-446e-b710-62f4ec522588",
   "metadata": {},
   "outputs": [],
   "source": [
    "spark_df = spark_df.dropna() # Eksik gözlemlerden kurtulma"
   ]
  },
  {
   "cell_type": "code",
   "execution_count": 19,
   "id": "0a2f9c2a-9d32-4b36-be45-791537477bfe",
   "metadata": {},
   "outputs": [],
   "source": [
    "spark_df = spark_df.withColumn(\"age_kare\", spark_df.age**2)"
   ]
  },
  {
   "cell_type": "code",
   "execution_count": 20,
   "id": "5a172f0a-1d11-44ff-ade8-845a8962951e",
   "metadata": {},
   "outputs": [
    {
     "name": "stdout",
     "output_type": "stream",
     "text": [
      "22/08/03 14:40:42 WARN CSVHeaderChecker: CSV header does not conform to the schema.\n",
      " Header: , Names, Age, Total_Purchase, Account_Manager, Years, Num_Sites, Churn\n",
      " Schema: _c0, Names, Age, Total_Purchase, Account_Manager, Years, Num_Sites, Churn\n",
      "Expected: _c0 but found: \n",
      "CSV file: file:///Users/ahmetikbalkaymaz/bigdata/churn.csv\n",
      "+-----+----------------+----+--------------+---------------+-----+---------+-----+--------+\n",
      "|index|           names| age|total_purchase|account_manager|years|num_sites|churn|age_kare|\n",
      "+-----+----------------+----+--------------+---------------+-----+---------+-----+--------+\n",
      "|    0|Cameron Williams|42.0|       11066.8|              0| 7.22|      8.0|    1|  1764.0|\n",
      "|    1|   Kevin Mueller|41.0|      11916.22|              0|  6.5|     11.0|    1|  1681.0|\n",
      "|    2|     Eric Lozano|38.0|      12884.75|              0| 6.67|     12.0|    1|  1444.0|\n",
      "|    3|   Phillip White|42.0|       8010.76|              0| 6.71|     10.0|    1|  1764.0|\n",
      "|    4|  Cynthia Norton|37.0|       9191.58|              0| 5.56|      9.0|    1|  1369.0|\n",
      "+-----+----------------+----+--------------+---------------+-----+---------+-----+--------+\n",
      "only showing top 5 rows\n",
      "\n"
     ]
    }
   ],
   "source": [
    "spark_df.show(5)"
   ]
  },
  {
   "cell_type": "code",
   "execution_count": 21,
   "id": "d6911af7-72fb-4582-84f9-20222eb6a97e",
   "metadata": {},
   "outputs": [],
   "source": [
    "# Bağımlı Değişkeni Belirtme"
   ]
  },
  {
   "cell_type": "code",
   "execution_count": 22,
   "id": "bedd720f-2e6d-449b-a320-f2231bd905fb",
   "metadata": {},
   "outputs": [],
   "source": [
    "from pyspark.ml.feature import StringIndexer"
   ]
  },
  {
   "cell_type": "code",
   "execution_count": 23,
   "id": "3754d5f4-b04a-4fdc-bd3e-84c1edda1bb8",
   "metadata": {},
   "outputs": [
    {
     "name": "stdout",
     "output_type": "stream",
     "text": [
      "22/08/03 14:45:10 WARN CSVHeaderChecker: CSV header does not conform to the schema.\n",
      " Header: , Names, Age, Total_Purchase, Account_Manager, Years, Num_Sites, Churn\n",
      " Schema: _c0, Names, Age, Total_Purchase, Account_Manager, Years, Num_Sites, Churn\n",
      "Expected: _c0 but found: \n",
      "CSV file: file:///Users/ahmetikbalkaymaz/bigdata/churn.csv\n"
     ]
    },
    {
     "name": "stderr",
     "output_type": "stream",
     "text": [
      "                                                                                \r"
     ]
    }
   ],
   "source": [
    "stringIndexer = StringIndexer(inputCol = \"churn\", outputCol = \"label\")\n",
    "model = stringIndexer.fit(spark_df)\n",
    "indexed = model.transform(spark_df)\n",
    "spark_df = indexed.withColumn(\"label\", indexed[\"label\"].cast(\"integer\"))"
   ]
  },
  {
   "cell_type": "code",
   "execution_count": 24,
   "id": "522f83cf-b073-42e8-9a74-3544df0aad7d",
   "metadata": {},
   "outputs": [
    {
     "name": "stdout",
     "output_type": "stream",
     "text": [
      "22/08/03 14:45:28 WARN CSVHeaderChecker: CSV header does not conform to the schema.\n",
      " Header: , Names, Age, Total_Purchase, Account_Manager, Years, Num_Sites, Churn\n",
      " Schema: _c0, Names, Age, Total_Purchase, Account_Manager, Years, Num_Sites, Churn\n",
      "Expected: _c0 but found: \n",
      "CSV file: file:///Users/ahmetikbalkaymaz/bigdata/churn.csv\n",
      "+-----+----------------+----+--------------+---------------+-----+---------+-----+--------+-----+\n",
      "|index|           names| age|total_purchase|account_manager|years|num_sites|churn|age_kare|label|\n",
      "+-----+----------------+----+--------------+---------------+-----+---------+-----+--------+-----+\n",
      "|    0|Cameron Williams|42.0|       11066.8|              0| 7.22|      8.0|    1|  1764.0|    1|\n",
      "|    1|   Kevin Mueller|41.0|      11916.22|              0|  6.5|     11.0|    1|  1681.0|    1|\n",
      "|    2|     Eric Lozano|38.0|      12884.75|              0| 6.67|     12.0|    1|  1444.0|    1|\n",
      "|    3|   Phillip White|42.0|       8010.76|              0| 6.71|     10.0|    1|  1764.0|    1|\n",
      "|    4|  Cynthia Norton|37.0|       9191.58|              0| 5.56|      9.0|    1|  1369.0|    1|\n",
      "+-----+----------------+----+--------------+---------------+-----+---------+-----+--------+-----+\n",
      "only showing top 5 rows\n",
      "\n"
     ]
    }
   ],
   "source": [
    "spark_df.show(5)"
   ]
  },
  {
   "cell_type": "code",
   "execution_count": 25,
   "id": "ccebdc3b-2e39-4e94-958e-9838531d784d",
   "metadata": {},
   "outputs": [],
   "source": [
    "# Bağımsız Değişkenler"
   ]
  },
  {
   "cell_type": "code",
   "execution_count": 26,
   "id": "ddf5a960-da09-4678-82ea-446a6361434b",
   "metadata": {},
   "outputs": [],
   "source": [
    "from pyspark.ml.feature import VectorAssembler"
   ]
  },
  {
   "cell_type": "code",
   "execution_count": 27,
   "id": "a9be2234-c6cb-4b7a-917b-70dad6445460",
   "metadata": {},
   "outputs": [
    {
     "data": {
      "text/plain": [
       "['index',\n",
       " 'names',\n",
       " 'age',\n",
       " 'total_purchase',\n",
       " 'account_manager',\n",
       " 'years',\n",
       " 'num_sites',\n",
       " 'churn',\n",
       " 'age_kare',\n",
       " 'label']"
      ]
     },
     "execution_count": 27,
     "metadata": {},
     "output_type": "execute_result"
    }
   ],
   "source": [
    "spark_df.columns"
   ]
  },
  {
   "cell_type": "code",
   "execution_count": 28,
   "id": "6830e425-f84e-4c96-b2e8-a57a5c4f25d1",
   "metadata": {},
   "outputs": [],
   "source": [
    "bagimsiz_degiskenler = [\"age\",\"total_purchase\",\"account_manager\",\"years\",\"num_sites\"]"
   ]
  },
  {
   "cell_type": "code",
   "execution_count": 32,
   "id": "bed32339-5c8f-4fa9-997b-1df747d34854",
   "metadata": {},
   "outputs": [],
   "source": [
    "vectorAssembler = VectorAssembler(inputCols = bagimsiz_degiskenler, outputCol= \"features\")\n",
    "va_df = vectorAssembler.transform(spark_df)"
   ]
  },
  {
   "cell_type": "code",
   "execution_count": 33,
   "id": "8e757857-e25b-4a07-bfd7-8cadcba77540",
   "metadata": {},
   "outputs": [
    {
     "name": "stdout",
     "output_type": "stream",
     "text": [
      "22/08/03 14:52:25 WARN CSVHeaderChecker: CSV header does not conform to the schema.\n",
      " Header: , Names, Age, Total_Purchase, Account_Manager, Years, Num_Sites, Churn\n",
      " Schema: _c0, Names, Age, Total_Purchase, Account_Manager, Years, Num_Sites, Churn\n",
      "Expected: _c0 but found: \n",
      "CSV file: file:///Users/ahmetikbalkaymaz/bigdata/churn.csv\n",
      "+-----+----------------+----+--------------+---------------+-----+---------+-----+--------+-----+--------------------+\n",
      "|index|           names| age|total_purchase|account_manager|years|num_sites|churn|age_kare|label|            features|\n",
      "+-----+----------------+----+--------------+---------------+-----+---------+-----+--------+-----+--------------------+\n",
      "|    0|Cameron Williams|42.0|       11066.8|              0| 7.22|      8.0|    1|  1764.0|    1|[42.0,11066.8,0.0...|\n",
      "|    1|   Kevin Mueller|41.0|      11916.22|              0|  6.5|     11.0|    1|  1681.0|    1|[41.0,11916.22,0....|\n",
      "|    2|     Eric Lozano|38.0|      12884.75|              0| 6.67|     12.0|    1|  1444.0|    1|[38.0,12884.75,0....|\n",
      "+-----+----------------+----+--------------+---------------+-----+---------+-----+--------+-----+--------------------+\n",
      "only showing top 3 rows\n",
      "\n"
     ]
    }
   ],
   "source": [
    "va_df.show(3)"
   ]
  },
  {
   "cell_type": "code",
   "execution_count": 34,
   "id": "de0729e9-e3c4-4773-99c8-dc59722feb16",
   "metadata": {},
   "outputs": [],
   "source": [
    "final_df =va_df.select([\"features\", \"label\"])"
   ]
  },
  {
   "cell_type": "code",
   "execution_count": 35,
   "id": "354e1925-9d13-4962-9276-b2ace5512ff3",
   "metadata": {},
   "outputs": [
    {
     "name": "stdout",
     "output_type": "stream",
     "text": [
      "22/08/03 14:53:14 WARN CSVHeaderChecker: CSV header does not conform to the schema.\n",
      " Header: , Names, Age, Total_Purchase, Account_Manager, Years, Num_Sites, Churn\n",
      " Schema: _c0, Names, Age, Total_Purchase, Account_Manager, Years, Num_Sites, Churn\n",
      "Expected: _c0 but found: \n",
      "CSV file: file:///Users/ahmetikbalkaymaz/bigdata/churn.csv\n",
      "+--------------------+-----+\n",
      "|            features|label|\n",
      "+--------------------+-----+\n",
      "|[42.0,11066.8,0.0...|    1|\n",
      "|[41.0,11916.22,0....|    1|\n",
      "|[38.0,12884.75,0....|    1|\n",
      "|[42.0,8010.76,0.0...|    1|\n",
      "|[37.0,9191.58,0.0...|    1|\n",
      "+--------------------+-----+\n",
      "only showing top 5 rows\n",
      "\n"
     ]
    }
   ],
   "source": [
    "final_df.show(5)"
   ]
  },
  {
   "cell_type": "code",
   "execution_count": 36,
   "id": "470abc6c-d51b-432c-812f-6a24a3c12efc",
   "metadata": {},
   "outputs": [],
   "source": [
    "# Test-Train"
   ]
  },
  {
   "cell_type": "code",
   "execution_count": 37,
   "id": "1bbf5f61-090e-4a7a-9856-282b814a6670",
   "metadata": {},
   "outputs": [],
   "source": [
    "splits = final_df.randomSplit([0.70, 0.30])\n",
    "train_df = splits[0]\n",
    "test_df = splits[1]"
   ]
  },
  {
   "cell_type": "code",
   "execution_count": 39,
   "id": "72bbd6ff-8abd-464e-a6b7-dccdb5b5d598",
   "metadata": {},
   "outputs": [
    {
     "data": {
      "text/plain": [
       "(DataFrame[features: vector, label: int],\n",
       " DataFrame[features: vector, label: int])"
      ]
     },
     "execution_count": 39,
     "metadata": {},
     "output_type": "execute_result"
    }
   ],
   "source": [
    "train_df, test_df"
   ]
  },
  {
   "cell_type": "markdown",
   "id": "699ae493-300d-48e2-a061-448d0e0600dd",
   "metadata": {},
   "source": [
    "## GBM ile Müşteri Terk Modellemesi"
   ]
  },
  {
   "cell_type": "code",
   "execution_count": 40,
   "id": "80a2ae88-81ef-4719-a4b7-afd8071db716",
   "metadata": {},
   "outputs": [],
   "source": [
    "from pyspark.ml.classification import GBTClassifier"
   ]
  },
  {
   "cell_type": "code",
   "execution_count": 41,
   "id": "ca91ad8d-a5b0-40f8-a643-76760d1fe0e4",
   "metadata": {},
   "outputs": [],
   "source": [
    "gbm = GBTClassifier(maxIter = 10, featuresCol = \"features\", labelCol = \"label\")"
   ]
  },
  {
   "cell_type": "code",
   "execution_count": 42,
   "id": "5f99f372-2590-47af-b725-205ce090de3f",
   "metadata": {},
   "outputs": [
    {
     "name": "stdout",
     "output_type": "stream",
     "text": [
      "22/08/03 14:58:40 WARN CSVHeaderChecker: CSV header does not conform to the schema.\n",
      " Header: , Names, Age, Total_Purchase, Account_Manager, Years, Num_Sites, Churn\n",
      " Schema: _c0, Names, Age, Total_Purchase, Account_Manager, Years, Num_Sites, Churn\n",
      "Expected: _c0 but found: \n",
      "CSV file: file:///Users/ahmetikbalkaymaz/bigdata/churn.csv\n"
     ]
    },
    {
     "name": "stderr",
     "output_type": "stream",
     "text": [
      "                                                                                \r"
     ]
    },
    {
     "name": "stdout",
     "output_type": "stream",
     "text": [
      "22/08/03 14:58:40 WARN CSVHeaderChecker: CSV header does not conform to the schema.\n",
      " Header: , Names, Age, Total_Purchase, Account_Manager, Years, Num_Sites, Churn\n",
      " Schema: _c0, Names, Age, Total_Purchase, Account_Manager, Years, Num_Sites, Churn\n",
      "Expected: _c0 but found: \n",
      "CSV file: file:///Users/ahmetikbalkaymaz/bigdata/churn.csv\n",
      "22/08/03 14:58:41 WARN CSVHeaderChecker: CSV header does not conform to the schema.\n",
      " Header: , Names, Age, Total_Purchase, Account_Manager, Years, Num_Sites, Churn\n",
      " Schema: _c0, Names, Age, Total_Purchase, Account_Manager, Years, Num_Sites, Churn\n",
      "Expected: _c0 but found: \n",
      "CSV file: file:///Users/ahmetikbalkaymaz/bigdata/churn.csv\n"
     ]
    },
    {
     "name": "stderr",
     "output_type": "stream",
     "text": [
      "                                                                                \r"
     ]
    },
    {
     "name": "stdout",
     "output_type": "stream",
     "text": [
      "22/08/03 14:58:42 WARN CSVHeaderChecker: CSV header does not conform to the schema.\n",
      " Header: , Names, Age, Total_Purchase, Account_Manager, Years, Num_Sites, Churn\n",
      " Schema: _c0, Names, Age, Total_Purchase, Account_Manager, Years, Num_Sites, Churn\n",
      "Expected: _c0 but found: \n",
      "CSV file: file:///Users/ahmetikbalkaymaz/bigdata/churn.csv\n"
     ]
    }
   ],
   "source": [
    "gbm_model = gbm.fit(train_df)"
   ]
  },
  {
   "cell_type": "code",
   "execution_count": 43,
   "id": "e50283b1-ceb9-4e18-a255-fb79fba06804",
   "metadata": {},
   "outputs": [
    {
     "data": {
      "text/html": [
       "\n",
       "        <div>\n",
       "            <p><b>SparkContext</b></p>\n",
       "\n",
       "            <p><a href=\"http://192.168.1.36:4040\">Spark UI</a></p>\n",
       "\n",
       "            <dl>\n",
       "              <dt>Version</dt>\n",
       "                <dd><code>v3.3.0</code></dd>\n",
       "              <dt>Master</dt>\n",
       "                <dd><code>local</code></dd>\n",
       "              <dt>AppName</dt>\n",
       "                <dd><code>pyspark_giris</code></dd>\n",
       "            </dl>\n",
       "        </div>\n",
       "        "
      ],
      "text/plain": [
       "<SparkContext master=local appName=pyspark_giris>"
      ]
     },
     "execution_count": 43,
     "metadata": {},
     "output_type": "execute_result"
    }
   ],
   "source": [
    "sc"
   ]
  },
  {
   "cell_type": "code",
   "execution_count": 44,
   "id": "c47146d9-daae-44d1-98c2-c38582ef18d9",
   "metadata": {},
   "outputs": [],
   "source": [
    "y_pred = gbm_model.transform(test_df)"
   ]
  },
  {
   "cell_type": "code",
   "execution_count": 45,
   "id": "07272d6d-0f55-43d3-afbf-ae90a6c23b82",
   "metadata": {},
   "outputs": [
    {
     "data": {
      "text/plain": [
       "DataFrame[features: vector, label: int, rawPrediction: vector, probability: vector, prediction: double]"
      ]
     },
     "execution_count": 45,
     "metadata": {},
     "output_type": "execute_result"
    }
   ],
   "source": [
    "y_pred"
   ]
  },
  {
   "cell_type": "code",
   "execution_count": 46,
   "id": "0ef2aced-9670-47b3-89c7-39042be4caaf",
   "metadata": {},
   "outputs": [],
   "source": [
    "ac = y_pred.select(\"label\", \"prediction\")"
   ]
  },
  {
   "cell_type": "code",
   "execution_count": 47,
   "id": "d8179682-2053-4886-83ac-51d1d2be7ae8",
   "metadata": {},
   "outputs": [],
   "source": [
    "# Tahmin Edilen Değerlerle karşılaştırıp True False Sorguları dönecek True olanları sayacak ve sonra bütün ac'nin elemanlarına bölecek"
   ]
  },
  {
   "cell_type": "code",
   "execution_count": 48,
   "id": "8fd38b7f-025c-4a0f-9efb-c21e33413163",
   "metadata": {},
   "outputs": [
    {
     "name": "stdout",
     "output_type": "stream",
     "text": [
      "22/08/03 15:02:56 WARN CSVHeaderChecker: CSV header does not conform to the schema.\n",
      " Header: , Names, Age, Total_Purchase, Account_Manager, Years, Num_Sites, Churn\n",
      " Schema: _c0, Names, Age, Total_Purchase, Account_Manager, Years, Num_Sites, Churn\n",
      "Expected: _c0 but found: \n",
      "CSV file: file:///Users/ahmetikbalkaymaz/bigdata/churn.csv\n",
      "22/08/03 15:02:56 WARN InstanceBuilder$NativeBLAS: Failed to load implementation from:dev.ludovic.netlib.blas.JNIBLAS\n",
      "22/08/03 15:02:56 WARN InstanceBuilder$NativeBLAS: Failed to load implementation from:dev.ludovic.netlib.blas.ForeignLinkerBLAS\n",
      "22/08/03 15:02:57 WARN CSVHeaderChecker: CSV header does not conform to the schema.\n",
      " Header: , Names, Age, Total_Purchase, Account_Manager, Years, Num_Sites, Churn\n",
      " Schema: _c0, Names, Age, Total_Purchase, Account_Manager, Years, Num_Sites, Churn\n",
      "Expected: _c0 but found: \n",
      "CSV file: file:///Users/ahmetikbalkaymaz/bigdata/churn.csv\n"
     ]
    },
    {
     "data": {
      "text/plain": [
       "0.8556701030927835"
      ]
     },
     "execution_count": 48,
     "metadata": {},
     "output_type": "execute_result"
    }
   ],
   "source": [
    "ac.filter(ac.label==ac.prediction).count()/ac.count() "
   ]
  },
  {
   "cell_type": "code",
   "execution_count": 49,
   "id": "7b26b1d2-c031-4029-bd79-e89394ff6d23",
   "metadata": {},
   "outputs": [],
   "source": [
    "# Yeni Müşteri terk eder mi etmez mi"
   ]
  },
  {
   "cell_type": "code",
   "execution_count": 50,
   "id": "3b3353bc-b03f-4733-afea-66fb0c4323d9",
   "metadata": {},
   "outputs": [
    {
     "data": {
      "text/html": [
       "<div>\n",
       "<style scoped>\n",
       "    .dataframe tbody tr th:only-of-type {\n",
       "        vertical-align: middle;\n",
       "    }\n",
       "\n",
       "    .dataframe tbody tr th {\n",
       "        vertical-align: top;\n",
       "    }\n",
       "\n",
       "    .dataframe thead th {\n",
       "        text-align: right;\n",
       "    }\n",
       "</style>\n",
       "<table border=\"1\" class=\"dataframe\">\n",
       "  <thead>\n",
       "    <tr style=\"text-align: right;\">\n",
       "      <th></th>\n",
       "      <th>names</th>\n",
       "      <th>age</th>\n",
       "      <th>total_purchase</th>\n",
       "      <th>account_manager</th>\n",
       "      <th>years</th>\n",
       "      <th>num_sites</th>\n",
       "    </tr>\n",
       "  </thead>\n",
       "  <tbody>\n",
       "    <tr>\n",
       "      <th>0</th>\n",
       "      <td>Ali Ahmetoğlu</td>\n",
       "      <td>38</td>\n",
       "      <td>30000</td>\n",
       "      <td>1</td>\n",
       "      <td>20</td>\n",
       "      <td>30</td>\n",
       "    </tr>\n",
       "    <tr>\n",
       "      <th>1</th>\n",
       "      <td>Taner Gün</td>\n",
       "      <td>43</td>\n",
       "      <td>10000</td>\n",
       "      <td>0</td>\n",
       "      <td>10</td>\n",
       "      <td>8</td>\n",
       "    </tr>\n",
       "    <tr>\n",
       "      <th>2</th>\n",
       "      <td>Berkay</td>\n",
       "      <td>34</td>\n",
       "      <td>6000</td>\n",
       "      <td>0</td>\n",
       "      <td>3</td>\n",
       "      <td>8</td>\n",
       "    </tr>\n",
       "    <tr>\n",
       "      <th>3</th>\n",
       "      <td>Polat</td>\n",
       "      <td>50</td>\n",
       "      <td>300000</td>\n",
       "      <td>1</td>\n",
       "      <td>8</td>\n",
       "      <td>6</td>\n",
       "    </tr>\n",
       "    <tr>\n",
       "      <th>4</th>\n",
       "      <td>Kamil</td>\n",
       "      <td>40</td>\n",
       "      <td>100000</td>\n",
       "      <td>1</td>\n",
       "      <td>30</td>\n",
       "      <td>50</td>\n",
       "    </tr>\n",
       "  </tbody>\n",
       "</table>\n",
       "</div>"
      ],
      "text/plain": [
       "           names  age  total_purchase  account_manager  years  num_sites\n",
       "0  Ali Ahmetoğlu   38           30000                1     20         30\n",
       "1      Taner Gün   43           10000                0     10          8\n",
       "2         Berkay   34            6000                0      3          8\n",
       "3          Polat   50          300000                1      8          6\n",
       "4          Kamil   40          100000                1     30         50"
      ]
     },
     "execution_count": 50,
     "metadata": {},
     "output_type": "execute_result"
    }
   ],
   "source": [
    "import pandas as pd\n",
    "\n",
    "names = pd.Series([\"Ali Ahmetoğlu\", \"Taner Gün\", \"Berkay\", \"Polat\", \"Kamil\"])\n",
    "age = pd.Series([38,43,34,50,40])\n",
    "total_purchase = pd.Series([30000,10000,6000,300000, 100000])\n",
    "account_manager = pd.Series([1,0,0,1,1])\n",
    "years = pd.Series([20,10,3,8,30])\n",
    "num_sites = pd.Series([30,8,8,6,50])\n",
    "\n",
    "yeni_musteriler = pd.DataFrame({\n",
    "    'names': names,\n",
    "    'age': age,\n",
    "    'total_purchase': total_purchase,\n",
    "    'account_manager': account_manager,\n",
    "    'years': years,\n",
    "    'num_sites': num_sites\n",
    "})\n",
    "\n",
    "yeni_musteriler"
   ]
  },
  {
   "cell_type": "code",
   "execution_count": 51,
   "id": "8e8ad8bc-3b62-4480-a87a-099ae8432add",
   "metadata": {},
   "outputs": [],
   "source": [
    "yeni_sdf = spark.createDataFrame(yeni_musteriler)"
   ]
  },
  {
   "cell_type": "code",
   "execution_count": 52,
   "id": "20ac33f2-26dd-4f4a-9287-5be81b12fddd",
   "metadata": {},
   "outputs": [
    {
     "name": "stderr",
     "output_type": "stream",
     "text": [
      "[Stage 128:>                                                        (0 + 1) / 1]\r"
     ]
    },
    {
     "name": "stdout",
     "output_type": "stream",
     "text": [
      "+-------------+---+--------------+---------------+-----+---------+\n",
      "|        names|age|total_purchase|account_manager|years|num_sites|\n",
      "+-------------+---+--------------+---------------+-----+---------+\n",
      "|Ali Ahmetoğlu| 38|         30000|              1|   20|       30|\n",
      "|    Taner Gün| 43|         10000|              0|   10|        8|\n",
      "|       Berkay| 34|          6000|              0|    3|        8|\n",
      "|        Polat| 50|        300000|              1|    8|        6|\n",
      "|        Kamil| 40|        100000|              1|   30|       50|\n",
      "+-------------+---+--------------+---------------+-----+---------+\n",
      "\n"
     ]
    },
    {
     "name": "stderr",
     "output_type": "stream",
     "text": [
      "                                                                                \r"
     ]
    }
   ],
   "source": [
    "yeni_sdf.show(5)"
   ]
  },
  {
   "cell_type": "code",
   "execution_count": 53,
   "id": "0e353c2a-8338-44c6-8d60-e071075e97af",
   "metadata": {},
   "outputs": [],
   "source": [
    "yeni_musteriler = vectorAssembler.transform(yeni_sdf)"
   ]
  },
  {
   "cell_type": "code",
   "execution_count": 54,
   "id": "3a47b5db-e1ae-4b51-8f8c-a875a95386a4",
   "metadata": {},
   "outputs": [
    {
     "data": {
      "text/plain": [
       "DataFrame[names: string, age: bigint, total_purchase: bigint, account_manager: bigint, years: bigint, num_sites: bigint, features: vector]"
      ]
     },
     "execution_count": 54,
     "metadata": {},
     "output_type": "execute_result"
    }
   ],
   "source": [
    "yeni_musteriler"
   ]
  },
  {
   "cell_type": "code",
   "execution_count": 56,
   "id": "a144cec3-b220-4628-84ec-eac038ecf232",
   "metadata": {},
   "outputs": [],
   "source": [
    "results = gbm_model.transform(yeni_musteriler)"
   ]
  },
  {
   "cell_type": "code",
   "execution_count": 57,
   "id": "c2fc9278-cc56-43a1-bfbf-354d84950a95",
   "metadata": {},
   "outputs": [
    {
     "name": "stdout",
     "output_type": "stream",
     "text": [
      "+-------------+----------+\n",
      "|        names|prediction|\n",
      "+-------------+----------+\n",
      "|Ali Ahmetoğlu|       1.0|\n",
      "|    Taner Gün|       0.0|\n",
      "|       Berkay|       0.0|\n",
      "|        Polat|       0.0|\n",
      "|        Kamil|       1.0|\n",
      "+-------------+----------+\n",
      "\n"
     ]
    }
   ],
   "source": [
    "results.select(\"names\", \"prediction\").show()"
   ]
  },
  {
   "cell_type": "code",
   "execution_count": 58,
   "id": "01189afe-55d0-47fc-b3c5-dd64a36b019c",
   "metadata": {},
   "outputs": [],
   "source": [
    "sc.stop()"
   ]
  }
 ],
 "metadata": {
  "kernelspec": {
   "display_name": "Python 3 (ipykernel)",
   "language": "python",
   "name": "python3"
  },
  "language_info": {
   "codemirror_mode": {
    "name": "ipython",
    "version": 3
   },
   "file_extension": ".py",
   "mimetype": "text/x-python",
   "name": "python",
   "nbconvert_exporter": "python",
   "pygments_lexer": "ipython3",
   "version": "3.7.13"
  }
 },
 "nbformat": 4,
 "nbformat_minor": 5
}
